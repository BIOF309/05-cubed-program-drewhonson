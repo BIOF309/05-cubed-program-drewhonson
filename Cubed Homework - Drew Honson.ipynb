{
 "cells": [
  {
   "cell_type": "markdown",
   "metadata": {},
   "source": [
    "#**Cubed Homework**\n",
    "##Drew Honson"
   ]
  },
  {
   "cell_type": "code",
   "execution_count": 1,
   "metadata": {
    "collapsed": true
   },
   "outputs": [],
   "source": [
    "#Define the function cube as the input x raised to the variable y = 3\n",
    "#The function can also be written simply as x**3\n",
    "def cube(x, y = 3):\n",
    "    return x**y"
   ]
  },
  {
   "cell_type": "code",
   "execution_count": 2,
   "metadata": {
    "collapsed": false
   },
   "outputs": [
    {
     "name": "stdout",
     "output_type": "stream",
     "text": [
      "1\n",
      "8\n",
      "27\n",
      "64\n"
     ]
    }
   ],
   "source": [
    "#Testing some easy values\n",
    "print(cube(1))\n",
    "print(cube(2))\n",
    "print(cube(3))\n",
    "print(cube(4))"
   ]
  },
  {
   "cell_type": "code",
   "execution_count": 3,
   "metadata": {
    "collapsed": false
   },
   "outputs": [
    {
     "name": "stdout",
     "output_type": "stream",
     "text": [
      "Input as strings:  ['1', '3', '7', '11', '13', '17', '23', '101', '107', '111', '123']\n",
      "Cubed input:  ['1', '27', '343', '1331', '2197', '4913', '12167', '1030301', '1225043', '1367631', '1860867']\n"
     ]
    }
   ],
   "source": [
    "#input.txt has been downloaded into the folder for the GitHub repo\n",
    "#As long as the working directory is set to that folder, this code \n",
    "#is sufficient to locate input.txt\n",
    "\n",
    "#Open the file and load it. Python automatically makes it a list of strings\n",
    "with open('input.txt') as f:\n",
    "    input_str = f.read().splitlines()\n",
    "print(\"Input as strings:  \" + str(input_str))    \n",
    "\n",
    "#Use a list comprehension to perform the cube function on every value of the list\n",
    "#First converts strings to integers to allow cube() to work\n",
    "#Then converts integers to strings to make writing the txt file easier later on\n",
    "cubed_input = [str(cube(int(i))) for i in input_str]\n",
    "print(\"Cubed input:  \" + str(cubed_input))"
   ]
  },
  {
   "cell_type": "code",
   "execution_count": 4,
   "metadata": {
    "collapsed": true
   },
   "outputs": [],
   "source": [
    "#Write the cubes to a newline separated txt file \n",
    "#This is the same format as input.txt\n",
    "with open('cubed.txt', mode='wt', encoding='utf-8') as cubed:\n",
    "    cubed.write('\\n'.join(cubed_input))"
   ]
  },
  {
   "cell_type": "code",
   "execution_count": 5,
   "metadata": {
    "collapsed": false
   },
   "outputs": [
    {
     "name": "stdout",
     "output_type": "stream",
     "text": [
      "1\n",
      "27\n",
      "343\n",
      "1331\n",
      "2197\n",
      "4913\n",
      "12167\n",
      "1030301\n",
      "1225043\n",
      "1367631\n",
      "1860867\n"
     ]
    }
   ],
   "source": [
    "#Make sure that cubed.txt was correctly written\n",
    "all_the_cubes = open('cubed.txt','r')\n",
    "print(all_the_cubes.read())"
   ]
  },
  {
   "cell_type": "code",
   "execution_count": null,
   "metadata": {
    "collapsed": true
   },
   "outputs": [],
   "source": []
  }
 ],
 "metadata": {
  "kernelspec": {
   "display_name": "Python 3",
   "language": "python",
   "name": "python3"
  },
  "language_info": {
   "codemirror_mode": {
    "name": "ipython",
    "version": 3
   },
   "file_extension": ".py",
   "mimetype": "text/x-python",
   "name": "python",
   "nbconvert_exporter": "python",
   "pygments_lexer": "ipython3",
   "version": "3.6.0"
  }
 },
 "nbformat": 4,
 "nbformat_minor": 2
}
